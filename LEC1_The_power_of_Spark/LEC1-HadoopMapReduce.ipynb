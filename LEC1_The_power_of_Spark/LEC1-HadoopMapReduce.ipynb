{
 "cells": [
  {
   "cell_type": "markdown",
   "metadata": {},
   "source": [
    "# MapReduce\n"
   ]
  },
  {
   "cell_type": "code",
   "execution_count": 1,
   "metadata": {
    "scrolled": true
   },
   "outputs": [
    {
     "name": "stdout",
     "output_type": "stream",
     "text": [
      "Collecting mrjob\n",
      "  Downloading mrjob-0.7.4-py2.py3-none-any.whl (439 kB)\n",
      "\u001b[K     |████████████████████████████████| 439 kB 3.3 MB/s eta 0:00:01\n",
      "\u001b[?25hRequirement already satisfied: PyYAML>=3.10 in ./opt/anaconda3/lib/python3.8/site-packages (from mrjob) (5.3.1)\n",
      "Installing collected packages: mrjob\n",
      "Successfully installed mrjob-0.7.4\n"
     ]
    }
   ],
   "source": [
    "# Install the mrjob library. This package is for running MR jobs with python\n",
    "! pip install mrjob"
   ]
  },
  {
   "cell_type": "code",
   "execution_count": 10,
   "metadata": {},
   "outputs": [],
   "source": [
    "# %%file wordcount.py\n",
    "# # %%file is an Ipython magic function that saves the code cell as a file\n",
    "from mrjob.job import MRJob # import the mrjob library\n",
    "\n",
    "# class MRSongCount(MRJob):\n",
    "    \n",
    "#     # the map step: each line in the txt file is read as a key, value pair\n",
    "#     # in this case, each line in the txt file only contains a value but no key\n",
    "#     # _ means that in this case, there is no key for each line\n",
    "#     def mapper(self, _, song):\n",
    "#         # output each line as a tuple of (song_names, 1) \n",
    "#         yield (song, 1)\n",
    "\n",
    "#     # the reduce step: combine all tuples with the same key\n",
    "#     # in this case, the key is the song name\n",
    "#     # then sum all the values of the tuple, which will give the total song plays\n",
    "#     def reducer(self, key, values):\n",
    "#         yield (key, sum(values))\n",
    "        \n",
    "# if __name__ == \"__main__\":\n",
    "#     MRSongCount.run()"
   ]
  },
  {
   "cell_type": "code",
   "execution_count": 8,
   "metadata": {},
   "outputs": [
    {
     "name": "stdout",
     "output_type": "stream",
     "text": [
      "No configs found; falling back on auto-configuration\n",
      "No configs specified for inline runner\n",
      "Creating temp directory /var/folders/tk/kksdykk10bv8hwlxkdl5p_p00000gn/T/wordcount.alexdinh.20210307.165013.307348\n",
      "Running step 1 of 1...\n",
      "job output is in /var/folders/tk/kksdykk10bv8hwlxkdl5p_p00000gn/T/wordcount.alexdinh.20210307.165013.307348/output\n",
      "Streaming final output from /var/folders/tk/kksdykk10bv8hwlxkdl5p_p00000gn/T/wordcount.alexdinh.20210307.165013.307348/output...\n",
      "\"Deep Dreams\"\t1131\n",
      "\"Data House Rock\"\t828\n",
      "\"Broken Networks\"\t510\n",
      "Removing temp directory /var/folders/tk/kksdykk10bv8hwlxkdl5p_p00000gn/T/wordcount.alexdinh.20210307.165013.307348...\n"
     ]
    }
   ],
   "source": [
    "! python wordcount.py songplays.txt"
   ]
  },
  {
   "cell_type": "code",
   "execution_count": null,
   "metadata": {},
   "outputs": [],
   "source": []
  }
 ],
 "metadata": {
  "kernelspec": {
   "display_name": "Python 3",
   "language": "python",
   "name": "python3"
  },
  "language_info": {
   "codemirror_mode": {
    "name": "ipython",
    "version": 3
   },
   "file_extension": ".py",
   "mimetype": "text/x-python",
   "name": "python",
   "nbconvert_exporter": "python",
   "pygments_lexer": "ipython3",
   "version": "3.8.5"
  }
 },
 "nbformat": 4,
 "nbformat_minor": 4
}
